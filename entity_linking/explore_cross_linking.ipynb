{
 "cells": [
  {
   "cell_type": "code",
   "execution_count": 27,
   "metadata": {
    "collapsed": false
   },
   "outputs": [],
   "source": [
    "import os\n",
    "import sys\n",
    "import argparse\n",
    "import pickle\n",
    "import math\n",
    "import unicodedata\n",
    "import pandas as pd\n",
    "import numpy as np\n",
    "\n",
    "from fuzzywuzzy import fuzz\n",
    "from nltk.tokenize.treebank import TreebankWordTokenizer\n",
    "from nltk.corpus import stopwords"
   ]
  },
  {
   "cell_type": "code",
   "execution_count": 2,
   "metadata": {
    "collapsed": true
   },
   "outputs": [],
   "source": [
    "# arguments\n",
    "index_entpath = \"../indexes/entity_2M.pkl\"\n",
    "index_reachpath = \"../indexes/reachability_2M.pkl\"\n",
    "index_namespath = \"../indexes/names_2M.pkl\"\n",
    "ent_resultpath = \"../entity_detection/query-text/val.txt\"\n",
    "rel_resultpath = \"../relation_prediction/results/topk-retrieval-valid-hits-3.txt\"\n",
    "outpath = \"./tmp/results\""
   ]
  },
  {
   "cell_type": "code",
   "execution_count": 3,
   "metadata": {
    "collapsed": false
   },
   "outputs": [],
   "source": [
    "tokenizer = TreebankWordTokenizer()\n",
    "stopwords = set(stopwords.words('english'))\n",
    "\n",
    "def tokenize_text(text):\n",
    "    tokens = tokenizer.tokenize(text)\n",
    "    return tokens\n",
    "\n",
    "def www2fb(in_str):\n",
    "    if in_str.startswith(\"www.freebase.com\"):\n",
    "        return 'fb:%s' % (in_str.split('www.freebase.com/')[-1].replace('/', '.'))\n",
    "    return in_str\n",
    "\n",
    "def get_index(index_path):\n",
    "    print(\"loading index from: {}\".format(index_path))\n",
    "    with open(index_path, 'rb') as f:\n",
    "        index = pickle.load(f)\n",
    "    return index\n",
    "\n",
    "def strip_accents(text):\n",
    "    return ''.join(c for c in unicodedata.normalize('NFKD', text) if unicodedata.category(c) != 'Mn')\n"
   ]
  },
  {
   "cell_type": "code",
   "execution_count": 4,
   "metadata": {
    "collapsed": true
   },
   "outputs": [],
   "source": [
    "def get_query_text(ent_resultpath):\n",
    "    print(\"getting query text...\")\n",
    "    lineids = []\n",
    "    id2query = {}\n",
    "    notfound = 0\n",
    "    with open(ent_resultpath, 'r') as f:\n",
    "        for line in f:\n",
    "            items = line.strip().split(\" %%%% \")\n",
    "            try:\n",
    "                lineid = items[0].strip()\n",
    "                query = items[1].strip()\n",
    "                # mid = items[2].strip()\n",
    "            except:\n",
    "                # print(\"ERROR: line does not have >2 items  -->  {}\".format(line.strip()))\n",
    "                notfound += 1\n",
    "                continue\n",
    "            # print(\"{}   -   {}\".format(lineid, query))\n",
    "            lineids.append(lineid)\n",
    "            id2query[lineid] = query\n",
    "    print(\"notfound (empty query text): {}\".format(notfound))\n",
    "    return lineids, id2query\n",
    "\n",
    "def get_relations(rel_resultpath):\n",
    "    print(\"getting relations...\")\n",
    "    lineids = []\n",
    "    id2rels = {}\n",
    "    with open(rel_resultpath, 'r') as f:\n",
    "        for line in f:\n",
    "            items = line.strip().split(\" %%%% \")\n",
    "            lineid = items[0].strip()\n",
    "            rel = www2fb(items[1].strip())\n",
    "            label = items[2].strip()\n",
    "            score = items[3].strip()\n",
    "            # print(\"{}   -   {}\".format(lineid, rel))\n",
    "            if lineid in id2rels.keys():\n",
    "                id2rels[lineid].append( (rel, label, score) )\n",
    "            else:\n",
    "                id2rels[lineid] = [(rel, label, score)]\n",
    "                lineids.append(lineid)\n",
    "    return lineids, id2rels"
   ]
  },
  {
   "cell_type": "code",
   "execution_count": 5,
   "metadata": {
    "collapsed": true
   },
   "outputs": [],
   "source": [
    "def find_ngrams(input_list, n):\n",
    "    ngrams = zip(*[input_list[i:] for i in range(n)])\n",
    "    return set(ngrams)"
   ]
  },
  {
   "cell_type": "code",
   "execution_count": 6,
   "metadata": {
    "collapsed": true
   },
   "outputs": [],
   "source": [
    "def calc_tf_idf(query, cand_ent_name, cand_ent_count, num_entities, index_ent):\n",
    "    query_terms = tokenize_text(query)\n",
    "    doc_tokens = tokenize_text(cand_ent_name)\n",
    "    common_terms = set(query_terms).intersection(set(doc_tokens))\n",
    "\n",
    "    # len_intersection = len(common_terms)\n",
    "    # len_union = len(set(query_terms).union(set(doc_tokens)))\n",
    "    # tf = len_intersection / len_union\n",
    "    tf = math.log10(cand_ent_count + 1)\n",
    "    k1 = 0.5\n",
    "    k2 = 0.5\n",
    "    total_idf = 0\n",
    "    for term in common_terms:\n",
    "        df = len(index_ent[term])\n",
    "        idf = math.log10( (num_entities - df + k1) / (df + k2) )\n",
    "        total_idf += idf\n",
    "    return tf * total_idf"
   ]
  },
  {
   "cell_type": "code",
   "execution_count": 7,
   "metadata": {
    "collapsed": true
   },
   "outputs": [],
   "source": [
    "def pick_best_name(question, names_list):\n",
    "    best_score = None\n",
    "    best_name = None\n",
    "    for name in names_list:\n",
    "        score =  fuzz.ratio(name, question)\n",
    "        if best_score == None or score > best_score:\n",
    "            best_score = score\n",
    "            best_name = name\n",
    "\n",
    "    return best_name"
   ]
  },
  {
   "cell_type": "code",
   "execution_count": 8,
   "metadata": {
    "collapsed": false
   },
   "outputs": [
    {
     "name": "stdout",
     "output_type": "stream",
     "text": [
      "getting relations...\n",
      "getting query text...\n",
      "notfound (empty query text): 0\n"
     ]
    }
   ],
   "source": [
    "rel_lineids, id2rels = get_relations(rel_resultpath)\n",
    "ent_lineids, id2query = get_query_text(ent_resultpath)  # ent_lineids may have some examples missing"
   ]
  },
  {
   "cell_type": "code",
   "execution_count": 9,
   "metadata": {
    "collapsed": false
   },
   "outputs": [
    {
     "name": "stdout",
     "output_type": "stream",
     "text": [
      "getting questions...\n",
      "10845\n",
      "('fb:m.0f3xg_', 'fb:symbols.namesake.named_after', 'Who was the trump ocean club international hotel and tower named after')\n"
     ]
    }
   ],
   "source": [
    "def get_questions(datapath):\n",
    "    print(\"getting questions...\")\n",
    "    id2question = {}\n",
    "    with open(datapath, 'r') as f:\n",
    "        for line in f:\n",
    "            items = line.strip().split(\"\\t\")\n",
    "            lineid = items[0].strip()\n",
    "            sub = items[1].strip()\n",
    "            pred = items[2].strip()\n",
    "            obj = items[3].strip()\n",
    "            question = items[4].strip()\n",
    "            # print(\"{}   -   {}\".format(lineid, question))\n",
    "            if lineid.startswith(\"valid\"):\n",
    "                id2question[lineid] = (sub, pred, question)\n",
    "    return id2question\n",
    "\n",
    "datapath = \"../data/SimpleQuestions_v2_modified/all.txt\"\n",
    "id2question = get_questions(datapath)\n",
    "print(len(id2question))\n",
    "print(id2question['valid-1'])"
   ]
  },
  {
   "cell_type": "code",
   "execution_count": 10,
   "metadata": {
    "collapsed": false
   },
   "outputs": [
    {
     "name": "stdout",
     "output_type": "stream",
     "text": [
      "10845\n",
      "10845\n"
     ]
    }
   ],
   "source": [
    "print(len(id2query))\n",
    "print(len(id2rels))"
   ]
  },
  {
   "cell_type": "code",
   "execution_count": 32,
   "metadata": {
    "collapsed": false
   },
   "outputs": [
    {
     "name": "stdout",
     "output_type": "stream",
     "text": [
      "N - 5\n",
      "tfidf 69.75564776394651\n",
      "fuzzy 76.87413554633473\n",
      "----------------------------------------\n",
      "N - 20\n",
      "tfidf 77.48271092669434\n",
      "fuzzy 83.28261871830337\n",
      "----------------------------------------\n",
      "N - 100\n",
      "tfidf 84.96081143384048\n",
      "fuzzy 88.27109266943292\n",
      "----------------------------------------\n"
     ]
    },
    {
     "data": {
      "text/html": [
       "<div>\n",
       "<table border=\"1\" class=\"dataframe\">\n",
       "  <thead>\n",
       "    <tr style=\"text-align: right;\">\n",
       "      <th></th>\n",
       "      <th>N</th>\n",
       "      <th>tfidf</th>\n",
       "      <th>fuzzy</th>\n",
       "    </tr>\n",
       "  </thead>\n",
       "  <tbody>\n",
       "    <tr>\n",
       "      <th>0</th>\n",
       "      <td>5</td>\n",
       "      <td>69.755648</td>\n",
       "      <td>76.874136</td>\n",
       "    </tr>\n",
       "    <tr>\n",
       "      <th>1</th>\n",
       "      <td>20</td>\n",
       "      <td>77.482711</td>\n",
       "      <td>83.282619</td>\n",
       "    </tr>\n",
       "    <tr>\n",
       "      <th>2</th>\n",
       "      <td>100</td>\n",
       "      <td>84.960811</td>\n",
       "      <td>88.271093</td>\n",
       "    </tr>\n",
       "  </tbody>\n",
       "</table>\n",
       "</div>"
      ],
      "text/plain": [
       "     N      tfidf      fuzzy\n",
       "0    5  69.755648  76.874136\n",
       "1   20  77.482711  83.282619\n",
       "2  100  84.960811  88.271093"
      ]
     },
     "execution_count": 32,
     "metadata": {},
     "output_type": "execute_result"
    }
   ],
   "source": [
    "data = []\n",
    "for N in [5, 20, 100]:\n",
    "    print(\"N - {}\".format(N))\n",
    "    row = []\n",
    "    row.append(N)\n",
    "    for sim in [\"tfidf\", \"fuzzy\"]:\n",
    "        fname = \"id2mids_h-{}_s-{}.pkl\".format(N, sim)\n",
    "        id2mids = pickle.load(open(fname, \"rb\"))\n",
    "\n",
    "        found = 0\n",
    "        notfound = 0\n",
    "\n",
    "        for lineid in id2question.keys():\n",
    "            if lineid not in id2mids.keys():\n",
    "                notfound += 1\n",
    "                continue\n",
    "\n",
    "            found_this_example = False\n",
    "            truth_mid, truth_rel, question = id2question[lineid]\n",
    "        #     print(id2question[lineid])\n",
    "            for (mid, mid_name, mid_score) in id2mids[lineid]:\n",
    "                if mid == truth_mid:\n",
    "                        found_this_example = True\n",
    "                        break\n",
    "\n",
    "\n",
    "            if found_this_example:\n",
    "                found += 1\n",
    "            else:\n",
    "                notfound += 1    \n",
    "\n",
    "        retrieval = found / (found + notfound) * 100.0\n",
    "        row.append(retrieval)\n",
    "    #     print(found)\n",
    "    #     print(notfound)    \n",
    "        print(sim, retrieval)\n",
    "    print(\"-\" * 40)\n",
    "    data.append(row)\n",
    "\n",
    "df = pd.DataFrame(data)\n",
    "df.columns = ['N', 'tfidf', 'fuzzy']\n",
    "df.head()"
   ]
  },
  {
   "cell_type": "code",
   "execution_count": 16,
   "metadata": {
    "collapsed": false
   },
   "outputs": [
    {
     "data": {
      "text/plain": [
       "57"
      ]
     },
     "execution_count": 16,
     "metadata": {},
     "output_type": "execute_result"
    }
   ],
   "source": [
    "mids_not_retrieved = len(id2question) - len(id2mids)\n",
    "mids_not_retrieved"
   ]
  },
  {
   "cell_type": "code",
   "execution_count": 23,
   "metadata": {
    "collapsed": false
   },
   "outputs": [
    {
     "data": {
      "text/plain": [
       "[('fb:m.0f3xg_', 'trump ocean club international hotel and tower', 1.0),\n",
       " ('fb:m.031n7n', 'trump international hotel and tower', 0.86),\n",
       " ('fb:m.05d9c4', 'trump international hotel and tower', 0.86),\n",
       " ('fb:m.08cbdd', 'trump international hotel and tower', 0.86),\n",
       " ('fb:m.07dwg4', 'trump international hotel and tower , las vegas', 0.75)]"
      ]
     },
     "execution_count": 23,
     "metadata": {},
     "output_type": "execute_result"
    }
   ],
   "source": [
    "id2mids['valid-1']"
   ]
  },
  {
   "cell_type": "code",
   "execution_count": 17,
   "metadata": {
    "collapsed": false
   },
   "outputs": [
    {
     "data": {
      "text/plain": [
       "[('fb:symbols.namesake.named_after', '1', '-0.9163265228271484'),\n",
       " ('fb:protected_sites.protected_site.governing_body',\n",
       "  '0',\n",
       "  '-2.0246400833129883'),\n",
       " ('fb:sports.professional_sports_team.owner_s', '0', '-2.1866111755371094')]"
      ]
     },
     "execution_count": 17,
     "metadata": {},
     "output_type": "execute_result"
    }
   ],
   "source": [
    "len(id2rels)\n",
    "id2rels['valid-1']"
   ]
  },
  {
   "cell_type": "code",
   "execution_count": null,
   "metadata": {
    "collapsed": false
   },
   "outputs": [],
   "source": []
  },
  {
   "cell_type": "code",
   "execution_count": null,
   "metadata": {
    "collapsed": true
   },
   "outputs": [],
   "source": []
  }
 ],
 "metadata": {
  "kernelspec": {
   "display_name": "Python 3",
   "language": "python",
   "name": "python3"
  },
  "language_info": {
   "codemirror_mode": {
    "name": "ipython",
    "version": 3
   },
   "file_extension": ".py",
   "mimetype": "text/x-python",
   "name": "python",
   "nbconvert_exporter": "python",
   "pygments_lexer": "ipython3",
   "version": "3.6.0"
  }
 },
 "nbformat": 4,
 "nbformat_minor": 2
}
