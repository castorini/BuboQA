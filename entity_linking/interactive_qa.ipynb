{
 "cells": [
  {
   "cell_type": "code",
   "execution_count": 14,
   "metadata": {
    "collapsed": true
   },
   "outputs": [],
   "source": [
    "import os\n",
    "import sys\n",
    "import argparse\n",
    "import pickle\n",
    "import math\n",
    "import unicodedata\n",
    "import pandas as pd\n",
    "\n",
    "from fuzzywuzzy import fuzz\n",
    "from nltk.tokenize.treebank import TreebankWordTokenizer\n",
    "from nltk.corpus import stopwords"
   ]
  },
  {
   "cell_type": "code",
   "execution_count": 15,
   "metadata": {
    "collapsed": true
   },
   "outputs": [],
   "source": [
    "# arguments\n",
    "index_entpath = \"../indexes/entity_2M.pkl\"\n",
    "index_reachpath = \"../indexes/reachability_2M.pkl\"\n",
    "index_namespath = \"../indexes/names_2M.pkl\""
   ]
  },
  {
   "cell_type": "code",
   "execution_count": 16,
   "metadata": {
    "collapsed": false
   },
   "outputs": [],
   "source": [
    "tokenizer = TreebankWordTokenizer()\n",
    "stopwords = set(stopwords.words('english'))\n",
    "\n",
    "def tokenize_text(text):\n",
    "    tokens = tokenizer.tokenize(text)\n",
    "    return tokens\n",
    "\n",
    "def www2fb(in_str):\n",
    "    if in_str.startswith(\"www.freebase.com\"):\n",
    "        return 'fb:%s' % (in_str.split('www.freebase.com/')[-1].replace('/', '.'))\n",
    "    return in_str\n",
    "\n",
    "def get_index(index_path):\n",
    "    print(\"loading index from: {}\".format(index_path))\n",
    "    with open(index_path, 'rb') as f:\n",
    "        index = pickle.load(f)\n",
    "    return index\n",
    "\n",
    "def strip_accents(text):\n",
    "    return ''.join(c for c in unicodedata.normalize('NFKD', text) if unicodedata.category(c) != 'Mn')\n"
   ]
  },
  {
   "cell_type": "code",
   "execution_count": 17,
   "metadata": {
    "collapsed": true
   },
   "outputs": [],
   "source": [
    "def find_ngrams(input_list, n):\n",
    "    ngrams = zip(*[input_list[i:] for i in range(n)])\n",
    "    return set(ngrams)"
   ]
  },
  {
   "cell_type": "code",
   "execution_count": 18,
   "metadata": {
    "collapsed": true
   },
   "outputs": [],
   "source": [
    "def calc_tf_idf(query, cand_ent_name, cand_ent_count, num_entities, index_ent):\n",
    "    query_terms = tokenize_text(query)\n",
    "    doc_tokens = tokenize_text(cand_ent_name)\n",
    "    common_terms = set(query_terms).intersection(set(doc_tokens))\n",
    "\n",
    "    # len_intersection = len(common_terms)\n",
    "    # len_union = len(set(query_terms).union(set(doc_tokens)))\n",
    "    # tf = len_intersection / len_union\n",
    "    tf = math.log10(cand_ent_count + 1)\n",
    "    k1 = 0.5\n",
    "    k2 = 0.5\n",
    "    total_idf = 0\n",
    "    for term in common_terms:\n",
    "        df = len(index_ent[term])\n",
    "        idf = math.log10( (num_entities - df + k1) / (df + k2) )\n",
    "        total_idf += idf\n",
    "    return tf * total_idf\n",
    "\n",
    "def pick_best_name(question, names_list):\n",
    "    best_score = None\n",
    "    best_name = None\n",
    "    for name in names_list:\n",
    "        score =  fuzz.ratio(name, question)\n",
    "        if best_score == None or score > best_score:\n",
    "            best_score = score\n",
    "            best_name = name\n",
    "\n",
    "    return best_name"
   ]
  },
  {
   "cell_type": "code",
   "execution_count": 19,
   "metadata": {
    "collapsed": false
   },
   "outputs": [
    {
     "name": "stdout",
     "output_type": "stream",
     "text": [
      "loading index from: ../indexes/entity_2M.pkl\n",
      "loading index from: ../indexes/names_2M.pkl\n",
      "loading index from: ../indexes/reachability_2M.pkl\n"
     ]
    }
   ],
   "source": [
    "index_ent = get_index(index_entpath)\n",
    "index_names = get_index(index_namespath)\n",
    "index_reach = get_index(index_reachpath)"
   ]
  },
  {
   "cell_type": "code",
   "execution_count": 20,
   "metadata": {
    "collapsed": true
   },
   "outputs": [],
   "source": [
    "# type in the question\n",
    "question = \"where was sasha vujacic born?\""
   ]
  },
  {
   "cell_type": "code",
   "execution_count": 21,
   "metadata": {
    "collapsed": false
   },
   "outputs": [
    {
     "name": "stdout",
     "output_type": "stream",
     "text": [
      "fb:people.person.place_of_birth\n"
     ]
    }
   ],
   "source": [
    "# FIXME: import methods to get query text, rel\n",
    "query_text = \"sasha vujacic\"\n",
    "pred_relation = www2fb(\"www.freebase.com/people/person/place_of_birth\")\n",
    "print(pred_relation)"
   ]
  },
  {
   "cell_type": "code",
   "execution_count": 22,
   "metadata": {
    "collapsed": false
   },
   "outputs": [
    {
     "name": "stdout",
     "output_type": "stream",
     "text": [
      "['sasha', 'vujacic']\n",
      "2\n"
     ]
    }
   ],
   "source": [
    "query_tokens = tokenize_text(query_text)\n",
    "print(query_tokens)\n",
    "N = min(len(query_tokens), 3)\n",
    "print(N)"
   ]
  },
  {
   "cell_type": "code",
   "execution_count": 23,
   "metadata": {
    "collapsed": false
   },
   "outputs": [
    {
     "name": "stdout",
     "output_type": "stream",
     "text": [
      "ngrams_set: {('sasha', 'vujacic')}\n",
      "ngram: sasha vujacic\n",
      "early termination...\n",
      "['fb:m.07f3jg']\n"
     ]
    }
   ],
   "source": [
    "C = []  # candidate entities\n",
    "for n in range(N, 0, -1):\n",
    "    ngrams_set = find_ngrams(query_tokens, n)\n",
    "    print(\"ngrams_set: {}\".format(ngrams_set))\n",
    "    for ngram_tuple in ngrams_set:\n",
    "        ngram = \" \".join(ngram_tuple)\n",
    "        ngram = strip_accents(ngram)\n",
    "        # unigram stopwords have too many candidates so just skip over\n",
    "        if ngram in stopwords:\n",
    "            continue\n",
    "        print(\"ngram: {}\".format(ngram))\n",
    "        ## PROBLEM! - ngram doesnt exist in index - at test-2592 - KeyError: 'p.a.r.c.e. parce'\n",
    "        try:\n",
    "            cand_mids = index_ent[ngram]  # search entities\n",
    "        except:\n",
    "            continue\n",
    "        C.extend(cand_mids)\n",
    "        # print(\"C: {}\".format(C))\n",
    "    if (len(C) > 0):\n",
    "        print(\"early termination...\")\n",
    "        break\n",
    "    break\n",
    "print(C)"
   ]
  },
  {
   "cell_type": "code",
   "execution_count": 24,
   "metadata": {
    "collapsed": false
   },
   "outputs": [
    {
     "name": "stdout",
     "output_type": "stream",
     "text": [
      "[('fb:m.07f3jg', 1), ('fb:m.07f3jg', 1)]\n"
     ]
    }
   ],
   "source": [
    "C_pruned = []\n",
    "for mid in set(C):\n",
    "    if mid in index_reach.keys():  # PROBLEM: don't know why this may not exist??\n",
    "        count_mid = C.count(mid)  # count number of times mid appeared in C\n",
    "        C_pruned.append((mid, count_mid))\n",
    "        if pred_relation in index_reach[mid]:\n",
    "            count_mid = C.count(mid)  # count number of times mid appeared in C\n",
    "            C_pruned.append((mid, count_mid))\n",
    "\n",
    "print(C_pruned)"
   ]
  },
  {
   "cell_type": "code",
   "execution_count": 25,
   "metadata": {
    "collapsed": false
   },
   "outputs": [
    {
     "name": "stdout",
     "output_type": "stream",
     "text": [
      "[('fb:m.07f3jg', 'sasha vujacic', 2.9542261202994435), ('fb:m.07f3jg', 'sasha vujacic', 2.9542261202994435)]\n",
      "fb:m.07f3jg\n",
      "sasha vujacic\n"
     ]
    }
   ],
   "source": [
    "num_entities_fbsubset = 1959820  # 2M - 1959820 , 5M - 1972702\n",
    "C_tfidf_pruned = []\n",
    "for mid, count_mid in C_pruned:\n",
    "    if mid in index_names.keys():\n",
    "        cand_ent_name = pick_best_name(question, index_names[mid])\n",
    "        tfidf = calc_tf_idf(query_text, cand_ent_name, count_mid, num_entities_fbsubset, index_ent)\n",
    "        C_tfidf_pruned.append((mid, cand_ent_name, tfidf))\n",
    "# print(\"C_tfidf_pruned[:10]: {}\".format(C_tfidf_pruned[:10]))\n",
    "print(C_tfidf_pruned)\n",
    "\n",
    "C_tfidf_pruned.sort(key=lambda t: -t[2])\n",
    "pred_ent, name_ent, score = C_tfidf_pruned[0]\n",
    "print(pred_ent)\n",
    "print(name_ent)"
   ]
  },
  {
   "cell_type": "code",
   "execution_count": 27,
   "metadata": {
    "collapsed": false
   },
   "outputs": [
    {
     "name": "stdout",
     "output_type": "stream",
     "text": [
      "loading index from: ../indexes/fb_graph.pkl\n"
     ]
    }
   ],
   "source": [
    "# FIXME: store the Freebase graph with the name field\n",
    "fb_path = \"../indexes/fb_graph.pkl\"\n",
    "fb_graph = get_index(fb_path)"
   ]
  },
  {
   "cell_type": "code",
   "execution_count": 40,
   "metadata": {
    "collapsed": true
   },
   "outputs": [],
   "source": [
    "def get_names(fb_graph, mids):\n",
    "    names = []\n",
    "    for mid in mids:\n",
    "        names.extend( fb_graph[(mid, 'fb:type.object.name')] )\n",
    "        names.extend( fb_graph[(mid, 'fb:common.topic.alias')] )\n",
    "    names.sort(key = lambda s: -len(s))\n",
    "    return names"
   ]
  },
  {
   "cell_type": "code",
   "execution_count": 42,
   "metadata": {
    "collapsed": false
   },
   "outputs": [
    {
     "name": "stdout",
     "output_type": "stream",
     "text": [
      "Answer: Slovenia, Maribor\n"
     ]
    }
   ],
   "source": [
    "# FIXME: lookup Freebase for object of (ent, rel)\n",
    "result_mid = fb_graph[(pred_ent, pred_relation)]\n",
    "result_mid = list(result_mid)\n",
    "# print(result_mid)\n",
    "\n",
    "# FIXME: lookup Freebase for the name predicate of that object\n",
    "result = get_names(fb_graph, result_mid)[0]\n",
    "print(\"Answer: {}\".format(result))\n"
   ]
  }
 ],
 "metadata": {
  "kernelspec": {
   "display_name": "Python 3",
   "language": "python",
   "name": "python3"
  },
  "language_info": {
   "codemirror_mode": {
    "name": "ipython",
    "version": 3
   },
   "file_extension": ".py",
   "mimetype": "text/x-python",
   "name": "python",
   "nbconvert_exporter": "python",
   "pygments_lexer": "ipython3",
   "version": "3.6.0"
  }
 },
 "nbformat": 4,
 "nbformat_minor": 2
}
