{
 "cells": [
  {
   "cell_type": "code",
   "execution_count": 26,
   "metadata": {
    "collapsed": true
   },
   "outputs": [],
   "source": [
    "import os\n",
    "import numpy as np\n",
    "import pandas as pd\n",
    "from sklearn.feature_extraction.text import CountVectorizer\n",
    "from sklearn.feature_extraction.text import TfidfTransformer\n",
    "from sklearn.linear_model import LogisticRegression\n",
    "from sklearn.linear_model import SGDClassifier\n",
    "from sklearn.pipeline import Pipeline\n",
    "from sklearn import metrics"
   ]
  },
  {
   "cell_type": "code",
   "execution_count": 2,
   "metadata": {
    "collapsed": true
   },
   "outputs": [],
   "source": [
    "data_dir = \"../data/SimpleQuestions_v2_modified/\"\n",
    "train_path = os.path.join(data_dir, \"train.txt\")\n",
    "val_path = os.path.join(data_dir, \"val.txt\")\n",
    "test_path = os.path.join(data_dir, \"test.txt\")"
   ]
  },
  {
   "cell_type": "code",
   "execution_count": 15,
   "metadata": {
    "collapsed": true
   },
   "outputs": [],
   "source": [
    "train_df = pd.read_table(train_path, header=None, names=[\"lineid\", \"entity_mid\", \"relation\", \"object\", \"question\"])\n",
    "val_df = pd.read_table(val_path, header=None, names=[\"lineid\", \"entity_mid\", \"relation\", \"object\", \"question\"])\n",
    "test_df = pd.read_table(test_path, header=None, names=[\"lineid\", \"entity_mid\", \"relation\", \"object\", \"question\"])"
   ]
  },
  {
   "cell_type": "code",
   "execution_count": 4,
   "metadata": {
    "collapsed": true
   },
   "outputs": [],
   "source": [
    "# test out code on small dataset first\n",
    "train_df = train_df[:2000]\n",
    "test_df = test_df[:200]"
   ]
  },
  {
   "cell_type": "code",
   "execution_count": 5,
   "metadata": {
    "collapsed": false
   },
   "outputs": [
    {
     "data": {
      "text/html": [
       "<div>\n",
       "<table border=\"1\" class=\"dataframe\">\n",
       "  <thead>\n",
       "    <tr style=\"text-align: right;\">\n",
       "      <th></th>\n",
       "      <th>lineid</th>\n",
       "      <th>entity_mid</th>\n",
       "      <th>relation</th>\n",
       "      <th>object</th>\n",
       "      <th>question</th>\n",
       "    </tr>\n",
       "  </thead>\n",
       "  <tbody>\n",
       "    <tr>\n",
       "      <th>0</th>\n",
       "      <td>train-1</td>\n",
       "      <td>fb:m.04whkz5</td>\n",
       "      <td>fb:book.written_work.subjects</td>\n",
       "      <td>fb:m.01cj3p</td>\n",
       "      <td>what is the book e about</td>\n",
       "    </tr>\n",
       "    <tr>\n",
       "      <th>1</th>\n",
       "      <td>train-2</td>\n",
       "      <td>fb:m.0tp2p24</td>\n",
       "      <td>fb:music.release_track.release</td>\n",
       "      <td>fb:m.0sjc7c1</td>\n",
       "      <td>to what release does the release track cardiac...</td>\n",
       "    </tr>\n",
       "    <tr>\n",
       "      <th>2</th>\n",
       "      <td>train-3</td>\n",
       "      <td>fb:m.04j0t75</td>\n",
       "      <td>fb:film.film.country</td>\n",
       "      <td>fb:m.07ssc</td>\n",
       "      <td>what country was the film the debt from</td>\n",
       "    </tr>\n",
       "    <tr>\n",
       "      <th>3</th>\n",
       "      <td>train-4</td>\n",
       "      <td>fb:m.0ftqr</td>\n",
       "      <td>fb:music.producer.tracks_produced</td>\n",
       "      <td>fb:m.0p600l</td>\n",
       "      <td>what songs have nobuo uematsu produced?</td>\n",
       "    </tr>\n",
       "    <tr>\n",
       "      <th>4</th>\n",
       "      <td>train-5</td>\n",
       "      <td>fb:m.036p007</td>\n",
       "      <td>fb:music.release.producers</td>\n",
       "      <td>fb:m.0677ng</td>\n",
       "      <td>Who produced eve-olution?</td>\n",
       "    </tr>\n",
       "  </tbody>\n",
       "</table>\n",
       "</div>"
      ],
      "text/plain": [
       "    lineid    entity_mid                           relation        object  \\\n",
       "0  train-1  fb:m.04whkz5      fb:book.written_work.subjects   fb:m.01cj3p   \n",
       "1  train-2  fb:m.0tp2p24     fb:music.release_track.release  fb:m.0sjc7c1   \n",
       "2  train-3  fb:m.04j0t75               fb:film.film.country    fb:m.07ssc   \n",
       "3  train-4    fb:m.0ftqr  fb:music.producer.tracks_produced   fb:m.0p600l   \n",
       "4  train-5  fb:m.036p007         fb:music.release.producers   fb:m.0677ng   \n",
       "\n",
       "                                            question  \n",
       "0                           what is the book e about  \n",
       "1  to what release does the release track cardiac...  \n",
       "2            what country was the film the debt from  \n",
       "3            what songs have nobuo uematsu produced?  \n",
       "4                          Who produced eve-olution?  "
      ]
     },
     "execution_count": 5,
     "metadata": {},
     "output_type": "execute_result"
    }
   ],
   "source": [
    "train_df.head()"
   ]
  },
  {
   "cell_type": "code",
   "execution_count": 16,
   "metadata": {
    "collapsed": true
   },
   "outputs": [],
   "source": [
    "# 1st baseline - Logistic regression with tf-idf\n",
    "text_clf = Pipeline([('vect', CountVectorizer()),\n",
    "                     ('tfidf', TfidfTransformer()),\n",
    "                     ('clf', LogisticRegression()),\n",
    "])\n",
    "\n",
    "text_clf.fit(train_df['question'], train_df['relation'])\n",
    "predicted = text_clf.predict(test_df['question'])\n",
    "accuracy = 100.0 * np.mean(predicted == test_df['relation'])\n",
    "print(accuracy)"
   ]
  },
  {
   "cell_type": "code",
   "execution_count": 19,
   "metadata": {
    "collapsed": false,
    "scrolled": true
   },
   "outputs": [
    {
     "data": {
      "text/html": [
       "<div>\n",
       "<table border=\"1\" class=\"dataframe\">\n",
       "  <thead>\n",
       "    <tr style=\"text-align: right;\">\n",
       "      <th></th>\n",
       "      <th>lineid</th>\n",
       "      <th>entity_mid</th>\n",
       "      <th>relation</th>\n",
       "      <th>object</th>\n",
       "      <th>question</th>\n",
       "    </tr>\n",
       "  </thead>\n",
       "  <tbody>\n",
       "    <tr>\n",
       "      <th>0</th>\n",
       "      <td>test-1</td>\n",
       "      <td>fb:m.01jp8ww</td>\n",
       "      <td>fb:music.album.genre</td>\n",
       "      <td>fb:m.01qzt1</td>\n",
       "      <td>Which genre of album is harder.....faster?</td>\n",
       "    </tr>\n",
       "    <tr>\n",
       "      <th>1</th>\n",
       "      <td>test-2</td>\n",
       "      <td>fb:m.0np6z99</td>\n",
       "      <td>fb:music.album.release_type</td>\n",
       "      <td>fb:m.02lx2r</td>\n",
       "      <td>what format is fearless</td>\n",
       "    </tr>\n",
       "    <tr>\n",
       "      <th>2</th>\n",
       "      <td>test-3</td>\n",
       "      <td>fb:m.0wzc58l</td>\n",
       "      <td>fb:people.person.place_of_birth</td>\n",
       "      <td>fb:m.0n2z</td>\n",
       "      <td>what city was alex golfis born in</td>\n",
       "    </tr>\n",
       "    <tr>\n",
       "      <th>3</th>\n",
       "      <td>test-4</td>\n",
       "      <td>fb:m.0jtw9c</td>\n",
       "      <td>fb:film.writer.film</td>\n",
       "      <td>fb:m.05szq8z</td>\n",
       "      <td>what film is by the writer phil hay?</td>\n",
       "    </tr>\n",
       "    <tr>\n",
       "      <th>4</th>\n",
       "      <td>test-5</td>\n",
       "      <td>fb:m.0gys2sn</td>\n",
       "      <td>fb:people.deceased_person.place_of_death</td>\n",
       "      <td>fb:m.0tzls</td>\n",
       "      <td>Where did roger marquis die</td>\n",
       "    </tr>\n",
       "  </tbody>\n",
       "</table>\n",
       "</div>"
      ],
      "text/plain": [
       "   lineid    entity_mid                                  relation  \\\n",
       "0  test-1  fb:m.01jp8ww                      fb:music.album.genre   \n",
       "1  test-2  fb:m.0np6z99               fb:music.album.release_type   \n",
       "2  test-3  fb:m.0wzc58l           fb:people.person.place_of_birth   \n",
       "3  test-4   fb:m.0jtw9c                       fb:film.writer.film   \n",
       "4  test-5  fb:m.0gys2sn  fb:people.deceased_person.place_of_death   \n",
       "\n",
       "         object                                    question  \n",
       "0   fb:m.01qzt1  Which genre of album is harder.....faster?  \n",
       "1   fb:m.02lx2r                     what format is fearless  \n",
       "2     fb:m.0n2z           what city was alex golfis born in  \n",
       "3  fb:m.05szq8z        what film is by the writer phil hay?  \n",
       "4    fb:m.0tzls                 Where did roger marquis die  "
      ]
     },
     "execution_count": 19,
     "metadata": {},
     "output_type": "execute_result"
    }
   ],
   "source": [
    "print(len(predicted))\n",
    "print(len(test_df['relation']))\n",
    "\n",
    "print(predicted[:5])\n",
    "print(test_df.head())"
   ]
  },
  {
   "cell_type": "code",
   "execution_count": 31,
   "metadata": {
    "collapsed": false
   },
   "outputs": [
    {
     "name": "stdout",
     "output_type": "stream",
     "text": [
      "66.6297782081\n"
     ]
    }
   ],
   "source": [
    "# 2nd baseline - SGD classifier - SVM hinge loss\n",
    "from sklearn.linear_model import SGDClassifier\n",
    "text_clf = Pipeline([('vect', CountVectorizer()),\n",
    "                     ('tfidf', TfidfTransformer()),\n",
    "                     ('clf', SGDClassifier(loss='hinge', penalty='l2',\n",
    "                                           alpha=1e-3, random_state=42))])\n",
    "text_clf.fit(train_df['question'], train_df['relation'])\n",
    "predicted = text_clf.predict(test_df['question'])\n",
    "accuracy = 100.0 * np.mean(predicted == test_df['relation'])          \n",
    "print(accuracy)"
   ]
  },
  {
   "cell_type": "code",
   "execution_count": null,
   "metadata": {
    "collapsed": true
   },
   "outputs": [],
   "source": []
  }
 ],
 "metadata": {
  "kernelspec": {
   "display_name": "Python 3",
   "language": "python",
   "name": "python3"
  },
  "language_info": {
   "codemirror_mode": {
    "name": "ipython",
    "version": 3
   },
   "file_extension": ".py",
   "mimetype": "text/x-python",
   "name": "python",
   "nbconvert_exporter": "python",
   "pygments_lexer": "ipython3",
   "version": "3.6.0"
  }
 },
 "nbformat": 4,
 "nbformat_minor": 2
}
