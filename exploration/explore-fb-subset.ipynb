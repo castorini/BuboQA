{
 "cells": [
  {
   "cell_type": "code",
   "execution_count": 5,
   "metadata": {
    "collapsed": false
   },
   "outputs": [],
   "source": [
    "import os\n",
    "import numpy as np\n",
    "import pandas as pd\n",
    "import time\n",
    "import matplotlib.pyplot as plt"
   ]
  },
  {
   "cell_type": "code",
   "execution_count": 7,
   "metadata": {
    "collapsed": false
   },
   "outputs": [
    {
     "name": "stdout",
     "output_type": "stream",
     "text": [
      "time taken: 16.909093141555786s\n"
     ]
    }
   ],
   "source": [
    "dir_path = \"../data/SimpleQuestions_v2/freebase-subsets/\"\n",
    "data_path = os.path.join(dir_path, \"freebase-FB2M.txt\")\n",
    "\n",
    "start = time.time()\n",
    "df = pd.read_table(data_path, \"\\t\", header=None, names=[\"mid\", \"relation\", \"object\"])\n",
    "finish = time.time()\n",
    "print(\"time taken: {}s\".format(finish-start))"
   ]
  },
  {
   "cell_type": "code",
   "execution_count": 8,
   "metadata": {
    "collapsed": false
   },
   "outputs": [
    {
     "name": "stdout",
     "output_type": "stream",
     "text": [
      "                              mid                                   relation  \\\n",
      "count                    10843106                                   10843106   \n",
      "unique                    1959820                                       6701   \n",
      "top     www.freebase.com/m/01xf7l  www.freebase.com/people/person/profession   \n",
      "freq                         2397                                    1762467   \n",
      "\n",
      "                           object  \n",
      "count                    10843106  \n",
      "unique                    1065269  \n",
      "top     www.freebase.com/m/05zppz  \n",
      "freq                       620472  \n",
      "count    6.701000e+03\n",
      "mean     1.618133e+03\n",
      "std      2.887775e+04\n",
      "min      1.000000e+00\n",
      "25%      3.000000e+00\n",
      "50%      1.100000e+01\n",
      "75%      6.900000e+01\n",
      "max      1.762467e+06\n",
      "Name: relation, dtype: float64\n",
      "count    1.959820e+06\n",
      "mean     5.532705e+00\n",
      "std      1.510552e+01\n",
      "min      1.000000e+00\n",
      "25%      3.000000e+00\n",
      "50%      4.000000e+00\n",
      "75%      6.000000e+00\n",
      "max      2.397000e+03\n",
      "Name: mid, dtype: float64\n"
     ]
    }
   ],
   "source": [
    "print(df.describe())\n",
    "\n",
    "rel_counts = df['relation'].value_counts()\n",
    "print(rel_counts.describe())\n",
    "# print(rel_counts[rel_counts <= 10].describe())\n",
    "# print(rel_counts[rel_counts > 10].describe())\n",
    "# rel_counts.plot(logy=True)\n",
    "\n",
    "mid_counts = df['mid'].value_counts()\n",
    "print(mid_counts.describe())\n",
    "# print(mid_counts[mid_counts <= 10].describe())\n",
    "# print(mid_counts[mid_counts > 10].describe())\n",
    "# mid_counts.plot(logy=True)"
   ]
  },
  {
   "cell_type": "code",
   "execution_count": null,
   "metadata": {
    "collapsed": true
   },
   "outputs": [],
   "source": []
  }
 ],
 "metadata": {
  "kernelspec": {
   "display_name": "Python 3",
   "language": "python",
   "name": "python3"
  },
  "language_info": {
   "codemirror_mode": {
    "name": "ipython",
    "version": 3
   },
   "file_extension": ".py",
   "mimetype": "text/x-python",
   "name": "python",
   "nbconvert_exporter": "python",
   "pygments_lexer": "ipython3",
   "version": "3.6.0"
  }
 },
 "nbformat": 4,
 "nbformat_minor": 2
}
