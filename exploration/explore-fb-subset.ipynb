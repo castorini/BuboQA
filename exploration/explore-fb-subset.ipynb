{
 "cells": [
  {
   "cell_type": "code",
   "execution_count": 1,
   "metadata": {},
   "outputs": [],
   "source": [
    "import os\n",
    "import numpy as np\n",
    "import pandas as pd\n",
    "import time\n",
    "import matplotlib.pyplot as plt"
   ]
  },
  {
   "cell_type": "code",
   "execution_count": 2,
   "metadata": {},
   "outputs": [
    {
     "name": "stdout",
     "output_type": "stream",
     "text": [
      "time taken: 33.29059100151062s\n"
     ]
    }
   ],
   "source": [
    "dir_path = \"../ferhan_simple_qa_rnn/data/SimpleQuestions_v2/freebase-subsets/\"\n",
    "data_path = os.path.join(dir_path, \"freebase-FB2M.txt\")\n",
    "\n",
    "start = time.time()\n",
    "df = pd.read_table(data_path, \"\\t\", header=None, names=[\"mid\", \"relation\", \"object\"])\n",
    "finish = time.time()\n",
    "print(\"time taken: {}s\".format(finish-start))"
   ]
  },
  {
   "cell_type": "code",
   "execution_count": 3,
   "metadata": {},
   "outputs": [
    {
     "data": {
      "text/html": [
       "<div>\n",
       "<style>\n",
       "    .dataframe thead tr:only-child th {\n",
       "        text-align: right;\n",
       "    }\n",
       "\n",
       "    .dataframe thead th {\n",
       "        text-align: left;\n",
       "    }\n",
       "\n",
       "    .dataframe tbody tr th {\n",
       "        vertical-align: top;\n",
       "    }\n",
       "</style>\n",
       "<table border=\"1\" class=\"dataframe\">\n",
       "  <thead>\n",
       "    <tr style=\"text-align: right;\">\n",
       "      <th></th>\n",
       "      <th>mid</th>\n",
       "      <th>relation</th>\n",
       "      <th>object</th>\n",
       "    </tr>\n",
       "  </thead>\n",
       "  <tbody>\n",
       "    <tr>\n",
       "      <th>count</th>\n",
       "      <td>10843106</td>\n",
       "      <td>10843106</td>\n",
       "      <td>10843106</td>\n",
       "    </tr>\n",
       "    <tr>\n",
       "      <th>unique</th>\n",
       "      <td>1959820</td>\n",
       "      <td>6701</td>\n",
       "      <td>1065269</td>\n",
       "    </tr>\n",
       "    <tr>\n",
       "      <th>top</th>\n",
       "      <td>www.freebase.com/m/01xf7l</td>\n",
       "      <td>www.freebase.com/people/person/profession</td>\n",
       "      <td>www.freebase.com/m/05zppz</td>\n",
       "    </tr>\n",
       "    <tr>\n",
       "      <th>freq</th>\n",
       "      <td>2397</td>\n",
       "      <td>1762467</td>\n",
       "      <td>620472</td>\n",
       "    </tr>\n",
       "  </tbody>\n",
       "</table>\n",
       "</div>"
      ],
      "text/plain": [
       "                              mid                                   relation  \\\n",
       "count                    10843106                                   10843106   \n",
       "unique                    1959820                                       6701   \n",
       "top     www.freebase.com/m/01xf7l  www.freebase.com/people/person/profession   \n",
       "freq                         2397                                    1762467   \n",
       "\n",
       "                           object  \n",
       "count                    10843106  \n",
       "unique                    1065269  \n",
       "top     www.freebase.com/m/05zppz  \n",
       "freq                       620472  "
      ]
     },
     "execution_count": 3,
     "metadata": {},
     "output_type": "execute_result"
    }
   ],
   "source": [
    "df.describe()"
   ]
  },
  {
   "cell_type": "code",
   "execution_count": 4,
   "metadata": {
    "collapsed": true
   },
   "outputs": [],
   "source": [
    "% matplotlib inline"
   ]
  },
  {
   "cell_type": "code",
   "execution_count": 5,
   "metadata": {},
   "outputs": [],
   "source": [
    "relation_counts = df['relation'].value_counts().reset_index().rename(columns={'index': 'relation', 'relation': 'count'})"
   ]
  },
  {
   "cell_type": "markdown",
   "metadata": {},
   "source": [
    "The 10 most popular relations:"
   ]
  },
  {
   "cell_type": "code",
   "execution_count": 6,
   "metadata": {},
   "outputs": [
    {
     "data": {
      "text/html": [
       "<div>\n",
       "<style>\n",
       "    .dataframe thead tr:only-child th {\n",
       "        text-align: right;\n",
       "    }\n",
       "\n",
       "    .dataframe thead th {\n",
       "        text-align: left;\n",
       "    }\n",
       "\n",
       "    .dataframe tbody tr th {\n",
       "        vertical-align: top;\n",
       "    }\n",
       "</style>\n",
       "<table border=\"1\" class=\"dataframe\">\n",
       "  <thead>\n",
       "    <tr style=\"text-align: right;\">\n",
       "      <th></th>\n",
       "      <th>relation</th>\n",
       "      <th>count</th>\n",
       "    </tr>\n",
       "  </thead>\n",
       "  <tbody>\n",
       "    <tr>\n",
       "      <th>0</th>\n",
       "      <td>www.freebase.com/people/person/profession</td>\n",
       "      <td>1762467</td>\n",
       "    </tr>\n",
       "    <tr>\n",
       "      <th>1</th>\n",
       "      <td>www.freebase.com/common/topic/notable_types</td>\n",
       "      <td>847059</td>\n",
       "    </tr>\n",
       "    <tr>\n",
       "      <th>2</th>\n",
       "      <td>www.freebase.com/people/person/gender</td>\n",
       "      <td>763480</td>\n",
       "    </tr>\n",
       "    <tr>\n",
       "      <th>3</th>\n",
       "      <td>www.freebase.com/people/person/nationality</td>\n",
       "      <td>599726</td>\n",
       "    </tr>\n",
       "    <tr>\n",
       "      <th>4</th>\n",
       "      <td>www.freebase.com/people/person/place_of_birth</td>\n",
       "      <td>577188</td>\n",
       "    </tr>\n",
       "    <tr>\n",
       "      <th>5</th>\n",
       "      <td>www.freebase.com/location/location/containedby</td>\n",
       "      <td>473626</td>\n",
       "    </tr>\n",
       "    <tr>\n",
       "      <th>6</th>\n",
       "      <td>www.freebase.com/people/deceased_person/place_...</td>\n",
       "      <td>160721</td>\n",
       "    </tr>\n",
       "    <tr>\n",
       "      <th>7</th>\n",
       "      <td>www.freebase.com/music/album/release_type</td>\n",
       "      <td>141996</td>\n",
       "    </tr>\n",
       "    <tr>\n",
       "      <th>8</th>\n",
       "      <td>www.freebase.com/film/film/genre</td>\n",
       "      <td>135957</td>\n",
       "    </tr>\n",
       "    <tr>\n",
       "      <th>9</th>\n",
       "      <td>www.freebase.com/music/release_track/recording</td>\n",
       "      <td>132254</td>\n",
       "    </tr>\n",
       "  </tbody>\n",
       "</table>\n",
       "</div>"
      ],
      "text/plain": [
       "                                            relation    count\n",
       "0          www.freebase.com/people/person/profession  1762467\n",
       "1        www.freebase.com/common/topic/notable_types   847059\n",
       "2              www.freebase.com/people/person/gender   763480\n",
       "3         www.freebase.com/people/person/nationality   599726\n",
       "4      www.freebase.com/people/person/place_of_birth   577188\n",
       "5     www.freebase.com/location/location/containedby   473626\n",
       "6  www.freebase.com/people/deceased_person/place_...   160721\n",
       "7          www.freebase.com/music/album/release_type   141996\n",
       "8                   www.freebase.com/film/film/genre   135957\n",
       "9     www.freebase.com/music/release_track/recording   132254"
      ]
     },
     "execution_count": 6,
     "metadata": {},
     "output_type": "execute_result"
    }
   ],
   "source": [
    "relation_counts.head(10)"
   ]
  },
  {
   "cell_type": "markdown",
   "metadata": {},
   "source": [
    "The number of singleton relationships:"
   ]
  },
  {
   "cell_type": "code",
   "execution_count": 7,
   "metadata": {},
   "outputs": [
    {
     "data": {
      "text/plain": [
       "relation    998\n",
       "count       998\n",
       "dtype: int64"
      ]
     },
     "execution_count": 7,
     "metadata": {},
     "output_type": "execute_result"
    }
   ],
   "source": [
    "relation_counts[relation_counts['count'] == 1].count()"
   ]
  },
  {
   "cell_type": "code",
   "execution_count": 8,
   "metadata": {},
   "outputs": [
    {
     "data": {
      "text/plain": [
       "[Text(0,0.5,'Number of Relations with Count'), Text(0.5,0,'Count of Relation')]"
      ]
     },
     "execution_count": 8,
     "metadata": {},
     "output_type": "execute_result"
    },
    {
     "data": {
      "image/png": "[encoded data removed]",
      "text/plain": [
       "<matplotlib.figure.Figure at 0x10e5d7320>"
      ]
     },
     "metadata": {},
     "output_type": "display_data"
    }
   ],
   "source": [
    "relation_plot = relation_counts.groupby('count').count().reset_index() \\\n",
    "    .rename(columns={'relation': 'count_of_count'}) \\\n",
    "    .plot(kind='scatter', x='count', y='count_of_count', logy=True, logx=True)\n",
    "\n",
    "relation_plot.set(xlabel='Count of Relation', ylabel='Number of Relations with Count')"
   ]
  },
  {
   "cell_type": "markdown",
   "metadata": {},
   "source": [
    "**Takeway:** fairly standard Zipfian distribution - lots singleton relations, a few relations that are _really_ popular"
   ]
  },
  {
   "cell_type": "code",
   "execution_count": 9,
   "metadata": {},
   "outputs": [],
   "source": [
    "mid_counts = df['mid'].value_counts().reset_index().rename(columns={'index': 'mid', 'mid': 'count'})"
   ]
  },
  {
   "cell_type": "markdown",
   "metadata": {},
   "source": [
    "The top 10 entities with the largest out-degree."
   ]
  },
  {
   "cell_type": "code",
   "execution_count": 10,
   "metadata": {},
   "outputs": [
    {
     "data": {
      "text/html": [
       "<div>\n",
       "<style>\n",
       "    .dataframe thead tr:only-child th {\n",
       "        text-align: right;\n",
       "    }\n",
       "\n",
       "    .dataframe thead th {\n",
       "        text-align: left;\n",
       "    }\n",
       "\n",
       "    .dataframe tbody tr th {\n",
       "        vertical-align: top;\n",
       "    }\n",
       "</style>\n",
       "<table border=\"1\" class=\"dataframe\">\n",
       "  <thead>\n",
       "    <tr style=\"text-align: right;\">\n",
       "      <th></th>\n",
       "      <th>mid</th>\n",
       "      <th>count</th>\n",
       "    </tr>\n",
       "  </thead>\n",
       "  <tbody>\n",
       "    <tr>\n",
       "      <th>0</th>\n",
       "      <td>www.freebase.com/m/01xf7l</td>\n",
       "      <td>2397</td>\n",
       "    </tr>\n",
       "    <tr>\n",
       "      <th>1</th>\n",
       "      <td>www.freebase.com/m/0dtfn</td>\n",
       "      <td>2244</td>\n",
       "    </tr>\n",
       "    <tr>\n",
       "      <th>2</th>\n",
       "      <td>www.freebase.com/m/09c7w0</td>\n",
       "      <td>1963</td>\n",
       "    </tr>\n",
       "    <tr>\n",
       "      <th>3</th>\n",
       "      <td>www.freebase.com/m/0y44</td>\n",
       "      <td>1872</td>\n",
       "    </tr>\n",
       "    <tr>\n",
       "      <th>4</th>\n",
       "      <td>www.freebase.com/m/012d40</td>\n",
       "      <td>1656</td>\n",
       "    </tr>\n",
       "    <tr>\n",
       "      <th>5</th>\n",
       "      <td>www.freebase.com/m/01vhpy</td>\n",
       "      <td>1584</td>\n",
       "    </tr>\n",
       "    <tr>\n",
       "      <th>6</th>\n",
       "      <td>www.freebase.com/m/02_286</td>\n",
       "      <td>1560</td>\n",
       "    </tr>\n",
       "    <tr>\n",
       "      <th>7</th>\n",
       "      <td>www.freebase.com/m/0f3m1</td>\n",
       "      <td>1560</td>\n",
       "    </tr>\n",
       "    <tr>\n",
       "      <th>8</th>\n",
       "      <td>www.freebase.com/m/03d6_gm</td>\n",
       "      <td>1520</td>\n",
       "    </tr>\n",
       "    <tr>\n",
       "      <th>9</th>\n",
       "      <td>www.freebase.com/m/025sf9q</td>\n",
       "      <td>1504</td>\n",
       "    </tr>\n",
       "  </tbody>\n",
       "</table>\n",
       "</div>"
      ],
      "text/plain": [
       "                          mid  count\n",
       "0   www.freebase.com/m/01xf7l   2397\n",
       "1    www.freebase.com/m/0dtfn   2244\n",
       "2   www.freebase.com/m/09c7w0   1963\n",
       "3     www.freebase.com/m/0y44   1872\n",
       "4   www.freebase.com/m/012d40   1656\n",
       "5   www.freebase.com/m/01vhpy   1584\n",
       "6   www.freebase.com/m/02_286   1560\n",
       "7    www.freebase.com/m/0f3m1   1560\n",
       "8  www.freebase.com/m/03d6_gm   1520\n",
       "9  www.freebase.com/m/025sf9q   1504"
      ]
     },
     "execution_count": 10,
     "metadata": {},
     "output_type": "execute_result"
    }
   ],
   "source": [
    "mid_counts.head(10)"
   ]
  },
  {
   "cell_type": "markdown",
   "metadata": {},
   "source": [
    "The number of entities that have only one outgoing edge:"
   ]
  },
  {
   "cell_type": "code",
   "execution_count": 11,
   "metadata": {},
   "outputs": [
    {
     "data": {
      "text/plain": [
       "mid      127568\n",
       "count    127568\n",
       "dtype: int64"
      ]
     },
     "execution_count": 11,
     "metadata": {},
     "output_type": "execute_result"
    }
   ],
   "source": [
    "mid_counts[mid_counts['count'] == 1].count()"
   ]
  },
  {
   "cell_type": "code",
   "execution_count": 12,
   "metadata": {},
   "outputs": [
    {
     "data": {
      "text/plain": [
       "[Text(0,0.5,'Number of mids with Out-degree'), Text(0.5,0,'Out-degree of mid')]"
      ]
     },
     "execution_count": 12,
     "metadata": {},
     "output_type": "execute_result"
    },
    {
     "data": {
      "image/png": "[encoded data removed]",
      "text/plain": [
       "<matplotlib.figure.Figure at 0x10e945cc0>"
      ]
     },
     "metadata": {},
     "output_type": "display_data"
    }
   ],
   "source": [
    "mid_plot = mid_counts.groupby('count').count().reset_index() \\\n",
    "    .rename(columns={'mid': 'count_of_count'}) \\\n",
    "    .plot(kind='scatter', x='count', y='count_of_count', logy=True, logx=True)\n",
    "\n",
    "mid_plot.set(xlabel='Out-degree of mid', ylabel='Number of mids with Out-degree')"
   ]
  }
 ],
 "metadata": {
  "kernelspec": {
   "display_name": "Python 3",
   "language": "python",
   "name": "python3"
  },
  "language_info": {
   "codemirror_mode": {
    "name": "ipython",
    "version": 3
   },
   "file_extension": ".py",
   "mimetype": "text/x-python",
   "name": "python",
   "nbconvert_exporter": "python",
   "pygments_lexer": "ipython3",
   "version": "3.6.1"
  }
 },
 "nbformat": 4,
 "nbformat_minor": 2
}
